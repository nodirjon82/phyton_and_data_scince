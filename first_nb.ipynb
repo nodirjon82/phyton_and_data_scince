{
  "nbformat": 4,
  "nbformat_minor": 0,
  "metadata": {
    "colab": {
      "provenance": [],
      "authorship_tag": "ABX9TyM8bSLYNi9ZXy1Y9Dg8meiD",
      "include_colab_link": true
    },
    "kernelspec": {
      "name": "python3",
      "display_name": "Python 3"
    },
    "language_info": {
      "name": "python"
    }
  },
  "cells": [
    {
      "cell_type": "markdown",
      "metadata": {
        "id": "view-in-github",
        "colab_type": "text"
      },
      "source": [
        "<a href=\"https://colab.research.google.com/github/nodirjon82/phyton_and_data_scince/blob/main/first_nb.ipynb\" target=\"_parent\"><img src=\"https://colab.research.google.com/assets/colab-badge.svg\" alt=\"Open In Colab\"/></a>"
      ]
    },
    {
      "cell_type": "code",
      "execution_count": 1,
      "metadata": {
        "colab": {
          "base_uri": "https://localhost:8080/"
        },
        "id": "oa9ac-q3sTm1",
        "outputId": "af78c8c7-a0ed-4491-c5b2-224e14afc132"
      },
      "outputs": [
        {
          "output_type": "stream",
          "name": "stdout",
          "text": [
            "Hello world\n"
          ]
        }
      ],
      "source": [
        "print(\"Hello world\")"
      ]
    },
    {
      "cell_type": "code",
      "source": [],
      "metadata": {
        "id": "-gn982w5sZ7c"
      },
      "execution_count": null,
      "outputs": []
    },
    {
      "cell_type": "markdown",
      "source": [
        "- sdsdfsdf\n",
        "+ sdfsdfsdf\n",
        "- fghfghfgh\n",
        "# fdfgdfgdfg\n"
      ],
      "metadata": {
        "id": "zwyCbVnItco0"
      }
    },
    {
      "cell_type": "code",
      "source": [],
      "metadata": {
        "id": "Or0rdp3qtlXr"
      },
      "execution_count": 1,
      "outputs": []
    },
    {
      "cell_type": "code",
      "source": [],
      "metadata": {
        "id": "I3QW-QgMtoXh"
      },
      "execution_count": null,
      "outputs": []
    }
  ]
}