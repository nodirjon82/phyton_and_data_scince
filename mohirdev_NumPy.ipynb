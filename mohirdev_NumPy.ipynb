{
  "cells": [
    {
      "cell_type": "markdown",
      "metadata": {
        "id": "view-in-github",
        "colab_type": "text"
      },
      "source": [
        "<a href=\"https://colab.research.google.com/github/nodirjon82/phyton_and_data_scince/blob/main/mohirdev_NumPy.ipynb\" target=\"_parent\"><img src=\"https://colab.research.google.com/assets/colab-badge.svg\" alt=\"Open In Colab\"/></a>"
      ]
    },
    {
      "cell_type": "markdown",
      "id": "bf79c78b",
      "metadata": {
        "id": "bf79c78b"
      },
      "source": [
        "# NumPy kutubxonasiga doir bilimlaringizni mustaxkamlash uchun mashqlar\n",
        "\n",
        "Hurmatli o'quvchi, bilimingizni yanada mustaxkamlashingiz va chuqurroq ko'nikmalarga ega bo'lishingiz uchun sizga topshiriqlar tayyorladik. Sizga yengillik yaratish maqsadida topshiriqni aynan qanday funksiyalar yordamida amalga oshirishingiz mumkin ekanini \n",
        " `💡Ishora` ko'rinishida yozdik!"
      ]
    },
    {
      "cell_type": "markdown",
      "id": "017db353",
      "metadata": {
        "id": "017db353"
      },
      "source": [
        "#### 1. NumPy kutubxonasini `np` nomi ostida yuklang va numpy kutubxonasini chop eting.\n",
        "\n",
        "versiya va konfiguratsiyani tekshiring.\n"
      ]
    },
    {
      "cell_type": "markdown",
      "source": [
        "`💡Ishora` import … as` and `np.__version__, np.show_config"
      ],
      "metadata": {
        "id": "e28779fe"
      },
      "id": "e28779fe"
    },
    {
      "cell_type": "code",
      "source": [
        "import numpy as np\n",
        "np.show_config()"
      ],
      "metadata": {
        "id": "_pCbn1ieI3u9",
        "outputId": "a74b8966-343f-4404-9cd4-0372f9570f06",
        "colab": {
          "base_uri": "https://localhost:8080/"
        }
      },
      "id": "_pCbn1ieI3u9",
      "execution_count": 5,
      "outputs": [
        {
          "output_type": "stream",
          "name": "stdout",
          "text": [
            "openblas64__info:\n",
            "    libraries = ['openblas64_', 'openblas64_']\n",
            "    library_dirs = ['/usr/local/lib']\n",
            "    language = c\n",
            "    define_macros = [('HAVE_CBLAS', None), ('BLAS_SYMBOL_SUFFIX', '64_'), ('HAVE_BLAS_ILP64', None)]\n",
            "    runtime_library_dirs = ['/usr/local/lib']\n",
            "blas_ilp64_opt_info:\n",
            "    libraries = ['openblas64_', 'openblas64_']\n",
            "    library_dirs = ['/usr/local/lib']\n",
            "    language = c\n",
            "    define_macros = [('HAVE_CBLAS', None), ('BLAS_SYMBOL_SUFFIX', '64_'), ('HAVE_BLAS_ILP64', None)]\n",
            "    runtime_library_dirs = ['/usr/local/lib']\n",
            "openblas64__lapack_info:\n",
            "    libraries = ['openblas64_', 'openblas64_']\n",
            "    library_dirs = ['/usr/local/lib']\n",
            "    language = c\n",
            "    define_macros = [('HAVE_CBLAS', None), ('BLAS_SYMBOL_SUFFIX', '64_'), ('HAVE_BLAS_ILP64', None), ('HAVE_LAPACKE', None)]\n",
            "    runtime_library_dirs = ['/usr/local/lib']\n",
            "lapack_ilp64_opt_info:\n",
            "    libraries = ['openblas64_', 'openblas64_']\n",
            "    library_dirs = ['/usr/local/lib']\n",
            "    language = c\n",
            "    define_macros = [('HAVE_CBLAS', None), ('BLAS_SYMBOL_SUFFIX', '64_'), ('HAVE_BLAS_ILP64', None), ('HAVE_LAPACKE', None)]\n",
            "    runtime_library_dirs = ['/usr/local/lib']\n",
            "Supported SIMD extensions in this NumPy install:\n",
            "    baseline = SSE,SSE2,SSE3\n",
            "    found = SSSE3,SSE41,POPCNT,SSE42,AVX,F16C,FMA3,AVX2\n",
            "    not found = AVX512F,AVX512CD,AVX512_KNL,AVX512_KNM,AVX512_SKX,AVX512_CLX,AVX512_CNL,AVX512_ICL\n"
          ]
        }
      ]
    },
    {
      "cell_type": "markdown",
      "id": "46950f4f",
      "metadata": {
        "id": "46950f4f"
      },
      "source": [
        "#### 2. Raqamli qiymatlar ro'yxatini bir o'lchovli NumPy massiviga aylantiring! "
      ]
    },
    {
      "cell_type": "markdown",
      "source": [
        "`💡Ishora` numpy.array"
      ],
      "metadata": {
        "id": "9b0e875f"
      },
      "id": "9b0e875f"
    },
    {
      "cell_type": "code",
      "source": [
        "arr = np.array(list(range(1,10)))\n",
        "arr"
      ],
      "metadata": {
        "id": "dgnzjeT3JCi4",
        "outputId": "8746da6f-e9a0-435c-a64c-1061bf0a776f",
        "colab": {
          "base_uri": "https://localhost:8080/"
        }
      },
      "id": "dgnzjeT3JCi4",
      "execution_count": 6,
      "outputs": [
        {
          "output_type": "execute_result",
          "data": {
            "text/plain": [
              "array([1, 2, 3, 4, 5, 6, 7, 8, 9])"
            ]
          },
          "metadata": {},
          "execution_count": 6
        }
      ]
    },
    {
      "cell_type": "markdown",
      "id": "e3c20b3d",
      "metadata": {
        "id": "e3c20b3d"
      },
      "source": [
        "#### 3. Qiymatlari noldan iborat bo'lgan to'qqiz o'lchovli massiv yarating.\n",
        "\n"
      ]
    },
    {
      "cell_type": "markdown",
      "source": [
        "`💡Ishora` np.zeros"
      ],
      "metadata": {
        "id": "96d0b63e"
      },
      "id": "96d0b63e"
    },
    {
      "cell_type": "markdown",
      "id": "b15a879f",
      "metadata": {
        "id": "b15a879f"
      },
      "source": [
        "#### 4. Massiv yarating va uning xotira hajmini toping.\n",
        "\n"
      ]
    },
    {
      "cell_type": "markdown",
      "source": [
        "`💡Ishora` size, itemsize"
      ],
      "metadata": {
        "id": "32f9025c"
      },
      "id": "32f9025c"
    },
    {
      "cell_type": "code",
      "source": [
        "arr1 = np.zeros((9,9,9))\n",
        "arr1.itemsize"
      ],
      "metadata": {
        "id": "MZxcJM_oJOTs",
        "outputId": "9a347c8b-d29f-47f1-d297-1cd6b90d5f95",
        "colab": {
          "base_uri": "https://localhost:8080/"
        }
      },
      "id": "MZxcJM_oJOTs",
      "execution_count": 19,
      "outputs": [
        {
          "output_type": "execute_result",
          "data": {
            "text/plain": [
              "8"
            ]
          },
          "metadata": {},
          "execution_count": 19
        }
      ]
    },
    {
      "cell_type": "markdown",
      "id": "0a708990",
      "metadata": {
        "id": "0a708990"
      },
      "source": [
        "#### 5. NumPy kutubxonasidagi add funksiyasi hujjatlarini buyruq satridan qanday olishi mumkin? \n"
      ]
    },
    {
      "cell_type": "markdown",
      "source": [
        "`💡Ishora` np.info"
      ],
      "metadata": {
        "id": "d254eea5"
      },
      "id": "d254eea5"
    },
    {
      "cell_type": "code",
      "source": [
        "np.info('add')"
      ],
      "metadata": {
        "id": "m7nA_vYsJVUi"
      },
      "id": "m7nA_vYsJVUi",
      "execution_count": null,
      "outputs": []
    },
    {
      "cell_type": "markdown",
      "id": "0b16cd77",
      "metadata": {
        "id": "0b16cd77"
      },
      "source": [
        "#### 6. Shunday vekor yaratingki u o'n ikki o'lchamda va qiymatlari noldan iborat bo'lsin, lekin vektorning oltinchi qiymati 1 ga teng bo'lsin.\n",
        "\n"
      ]
    },
    {
      "cell_type": "markdown",
      "source": [
        "`💡Ishora` array[12]"
      ],
      "metadata": {
        "id": "05223560"
      },
      "id": "05223560"
    },
    {
      "cell_type": "code",
      "source": [
        "a = np.zeros((12))\n",
        "a[5]=1\n",
        "a"
      ],
      "metadata": {
        "id": "UJfYDNQoJc7M",
        "outputId": "1dac5ba5-cbcc-4e3a-8aee-9b13b81f36ce",
        "colab": {
          "base_uri": "https://localhost:8080/"
        }
      },
      "id": "UJfYDNQoJc7M",
      "execution_count": 26,
      "outputs": [
        {
          "output_type": "execute_result",
          "data": {
            "text/plain": [
              "array([0., 0., 0., 0., 0., 1., 0., 0., 0., 0., 0., 0.])"
            ]
          },
          "metadata": {},
          "execution_count": 26
        }
      ]
    },
    {
      "cell_type": "markdown",
      "id": "782d4c77",
      "metadata": {
        "id": "782d4c77"
      },
      "source": [
        "#### 7. Qiymatlari 20 dan 59 gacha bo'lgan vektor yarating.\n",
        "\n"
      ]
    },
    {
      "cell_type": "markdown",
      "source": [
        "`💡Ishora` arange"
      ],
      "metadata": {
        "id": "7250d114"
      },
      "id": "7250d114"
    },
    {
      "cell_type": "code",
      "source": [
        "a = np.arange(20,60,1)\n",
        "a"
      ],
      "metadata": {
        "id": "fSaWkGakJhwz",
        "outputId": "ccb47c24-5c24-4af8-d7bf-8338822832f0",
        "colab": {
          "base_uri": "https://localhost:8080/"
        }
      },
      "id": "fSaWkGakJhwz",
      "execution_count": 27,
      "outputs": [
        {
          "output_type": "execute_result",
          "data": {
            "text/plain": [
              "array([20, 21, 22, 23, 24, 25, 26, 27, 28, 29, 30, 31, 32, 33, 34, 35, 36,\n",
              "       37, 38, 39, 40, 41, 42, 43, 44, 45, 46, 47, 48, 49, 50, 51, 52, 53,\n",
              "       54, 55, 56, 57, 58, 59])"
            ]
          },
          "metadata": {},
          "execution_count": 27
        }
      ]
    },
    {
      "cell_type": "markdown",
      "id": "48d48f01",
      "metadata": {
        "id": "48d48f01"
      },
      "source": [
        "#### 8. Vektor yarating va uni teskari o'zgartiring \n",
        "(birinchi element oxirgisi bo'lsin)\n",
        "\n"
      ]
    },
    {
      "cell_type": "markdown",
      "source": [
        "`💡Ishora` array[::-1]"
      ],
      "metadata": {
        "id": "fb702ae0"
      },
      "id": "fb702ae0"
    },
    {
      "cell_type": "code",
      "source": [
        "a[::-1]\n"
      ],
      "metadata": {
        "id": "GCP6vp_WJrON",
        "outputId": "2274b50e-1fb9-4854-da16-7282eec490ed",
        "colab": {
          "base_uri": "https://localhost:8080/"
        }
      },
      "id": "GCP6vp_WJrON",
      "execution_count": 35,
      "outputs": [
        {
          "output_type": "execute_result",
          "data": {
            "text/plain": [
              "array([59, 58, 57, 56, 55, 54, 53, 52, 51, 50, 49, 48, 47, 46, 45, 44, 43,\n",
              "       42, 41, 40, 39, 38, 37, 36, 35, 34, 33, 32, 31, 30, 29, 28, 27, 26,\n",
              "       25, 24, 23, 22, 21, 20])"
            ]
          },
          "metadata": {},
          "execution_count": 35
        }
      ]
    },
    {
      "cell_type": "markdown",
      "id": "4fa39382",
      "metadata": {
        "id": "4fa39382"
      },
      "source": [
        "#### 9. 12 dan 20 gacha bo'lgan qiymatlarga ega 3x3 matritsa yarating.\n"
      ]
    },
    {
      "cell_type": "markdown",
      "source": [
        "`💡Ishora` reshape"
      ],
      "metadata": {
        "id": "97e6be92"
      },
      "id": "97e6be92"
    },
    {
      "cell_type": "code",
      "source": [
        "a = np.arange(12,21,1).reshape(3,3)\n",
        "a"
      ],
      "metadata": {
        "id": "Ve7gEGjuJxxw",
        "outputId": "3a97b1d7-e78a-4f8c-c78e-f82dc5f50e0f",
        "colab": {
          "base_uri": "https://localhost:8080/"
        }
      },
      "id": "Ve7gEGjuJxxw",
      "execution_count": 36,
      "outputs": [
        {
          "output_type": "execute_result",
          "data": {
            "text/plain": [
              "array([[12, 13, 14],\n",
              "       [15, 16, 17],\n",
              "       [18, 19, 20]])"
            ]
          },
          "metadata": {},
          "execution_count": 36
        }
      ]
    },
    {
      "cell_type": "markdown",
      "id": "da64551a",
      "metadata": {
        "id": "da64551a"
      },
      "source": [
        "#### 10. Quyidagi matritsadan foydalanib nolga teng bo'lmagan elementlarning indekslarini toping.\n",
        "[3, 7, 0, 0, 9, 0] \n",
        "\n",
        "\n",
        "\n"
      ]
    },
    {
      "cell_type": "markdown",
      "source": [
        "`💡Ishora` np.nonzero"
      ],
      "metadata": {
        "id": "322b2b68"
      },
      "id": "322b2b68"
    },
    {
      "cell_type": "code",
      "source": [
        "arr = np.array([3,7,0,0,9,0])\n",
        "arr.nonzero()"
      ],
      "metadata": {
        "id": "fNIuSyBaJ4OP",
        "outputId": "fe646405-174e-4fe4-9dd8-d0b8fe887a3b",
        "colab": {
          "base_uri": "https://localhost:8080/"
        }
      },
      "id": "fNIuSyBaJ4OP",
      "execution_count": 38,
      "outputs": [
        {
          "output_type": "execute_result",
          "data": {
            "text/plain": [
              "(array([0, 1, 4]),)"
            ]
          },
          "metadata": {},
          "execution_count": 38
        }
      ]
    },
    {
      "cell_type": "markdown",
      "id": "f89d9c9e",
      "metadata": {
        "id": "f89d9c9e"
      },
      "source": [
        "#### 11. Tasodifiy qiymatlar bilan 2x2x2 o'lchovidagi massiv yarating.\n"
      ]
    },
    {
      "cell_type": "markdown",
      "source": [
        "`💡Ishora` np.random.random"
      ],
      "metadata": {
        "id": "5717e1c1"
      },
      "id": "5717e1c1"
    },
    {
      "cell_type": "code",
      "source": [
        "arr1 = np.random.random(8).reshape(2,2,2)\n",
        "arr1"
      ],
      "metadata": {
        "id": "bHloeqHOKuiX",
        "outputId": "2759a22c-b652-41e3-f153-09289ec19202",
        "colab": {
          "base_uri": "https://localhost:8080/"
        }
      },
      "id": "bHloeqHOKuiX",
      "execution_count": 44,
      "outputs": [
        {
          "output_type": "execute_result",
          "data": {
            "text/plain": [
              "array([[[0.43907855, 0.81482096],\n",
              "        [0.90371576, 0.02446508]],\n",
              "\n",
              "       [[0.65421938, 0.80367957],\n",
              "        [0.06401004, 0.93068324]]])"
            ]
          },
          "metadata": {},
          "execution_count": 44
        }
      ]
    },
    {
      "cell_type": "markdown",
      "id": "13c5928c",
      "metadata": {
        "id": "13c5928c"
      },
      "source": [
        "#### 12. Tasodifiy sonlardan tashkil topgan 9X9 o'lchamidagi massiv yarating. So'ng uning eng katta va eng kichik qiymatlarini toping\n"
      ]
    },
    {
      "cell_type": "markdown",
      "source": [
        "`💡Ishora` min, max"
      ],
      "metadata": {
        "id": "0ede4d26"
      },
      "id": "0ede4d26"
    },
    {
      "cell_type": "code",
      "source": [
        "arr = np.random.random(81).reshape(9,9)\n",
        "max = arr.max()\n",
        "min = arr.min()\n",
        "print(max,min)"
      ],
      "metadata": {
        "id": "OJiVa5K9LJyb",
        "outputId": "6c196cad-4b37-4f85-f2f0-2f7e5403843b",
        "colab": {
          "base_uri": "https://localhost:8080/"
        }
      },
      "id": "OJiVa5K9LJyb",
      "execution_count": 48,
      "outputs": [
        {
          "output_type": "stream",
          "name": "stdout",
          "text": [
            "0.9969129322685012 0.018335652234206745\n"
          ]
        }
      ]
    },
    {
      "cell_type": "markdown",
      "id": "3fa2e461",
      "metadata": {
        "id": "3fa2e461"
      },
      "source": [
        "#### 13. Quyidagi misol qanday natija beradi?\n",
        "\n",
        "\n",
        "```python\n",
        "0 * np.nan\n",
        "np.nan == np.nan\n",
        "np.inf > np.nan\n",
        "np.nan - np.nan\n",
        "np.nan in set([np.nan])\n",
        "0.7 == 7 * 0.1\n",
        "```\n"
      ]
    },
    {
      "cell_type": "markdown",
      "source": [
        "`💡Ishora` NaN = not a number, inf = infinity"
      ],
      "metadata": {
        "id": "c0048e59"
      },
      "id": "c0048e59"
    },
    {
      "cell_type": "code",
      "source": [
        "0 * np.nan\n",
        "np.nan == np.nan\n",
        "np.inf > np.nan\n",
        "np.nan - np.nan\n",
        "np.nan in set([np.nan])\n",
        "0.7 == 7 * 0.1"
      ],
      "metadata": {
        "id": "Thbqd_RCLf_e",
        "outputId": "45778291-e07e-4d89-cc17-0298cee5c741",
        "colab": {
          "base_uri": "https://localhost:8080/"
        }
      },
      "id": "Thbqd_RCLf_e",
      "execution_count": 49,
      "outputs": [
        {
          "output_type": "execute_result",
          "data": {
            "text/plain": [
              "False"
            ]
          },
          "metadata": {},
          "execution_count": 49
        }
      ]
    },
    {
      "cell_type": "markdown",
      "id": "73f7a549",
      "metadata": {
        "id": "73f7a549"
      },
      "source": [
        "#### 14. O'lchamlari 6x3 va 3x4 bo'lgan martitsa yarating, so'ng ularning  ko'paytmasini hisoblang.\n",
        "\n"
      ]
    },
    {
      "cell_type": "markdown",
      "source": [
        "`💡Ishora` np.dot` or `np.ones"
      ],
      "metadata": {
        "id": "351ff928"
      },
      "id": "351ff928"
    },
    {
      "cell_type": "code",
      "source": [
        "arr1 = np.arange(18).reshape(6,3)\n",
        "arr2 = np.ones((3,4))\n",
        "arr3 = np.dot(arr1, arr2)\n",
        "arr3"
      ],
      "metadata": {
        "id": "e_5QUFcPLtVX",
        "outputId": "cc71201e-69e0-44ff-ba4c-ffbe20363cbc",
        "colab": {
          "base_uri": "https://localhost:8080/"
        }
      },
      "id": "e_5QUFcPLtVX",
      "execution_count": 53,
      "outputs": [
        {
          "output_type": "execute_result",
          "data": {
            "text/plain": [
              "array([[ 3.,  3.,  3.,  3.],\n",
              "       [12., 12., 12., 12.],\n",
              "       [21., 21., 21., 21.],\n",
              "       [30., 30., 30., 30.],\n",
              "       [39., 39., 39., 39.],\n",
              "       [48., 48., 48., 48.]])"
            ]
          },
          "metadata": {},
          "execution_count": 53
        }
      ]
    },
    {
      "cell_type": "markdown",
      "id": "6d0c506f",
      "metadata": {
        "id": "6d0c506f"
      },
      "source": [
        "#### 15. Quyidagi misol qanday natija beradi?\n",
        "\n",
        "```python\n",
        "print(sum(range(5),-1))\n",
        "from numpy import *\n",
        "print(sum(range(5),-1))\n",
        "```"
      ]
    },
    {
      "cell_type": "code",
      "execution_count": 54,
      "id": "c1cc1143",
      "metadata": {
        "id": "c1cc1143",
        "outputId": "e0d843be-6315-4691-d4a4-8636a460ddda",
        "colab": {
          "base_uri": "https://localhost:8080/"
        }
      },
      "outputs": [
        {
          "output_type": "stream",
          "name": "stdout",
          "text": [
            "9\n",
            "10\n"
          ]
        }
      ],
      "source": [
        "print(sum(range(5),-1))\n",
        "from numpy import *\n",
        "print(sum(range(5),-1))"
      ]
    },
    {
      "cell_type": "markdown",
      "id": "d6ad1a9f",
      "metadata": {
        "id": "d6ad1a9f"
      },
      "source": [
        "#### 16. NumPy kutubxonasi yordamida ikkita massivni solishtiring va ular usida quyidagi amallarni bajaring.\n",
        "\n",
        "```python\n",
        "Array a: [1 2]\n",
        "Array b: [4 5]\n",
        "a > b \n",
        "[False False]\n",
        "a >= b \n",
        "[False False] \n",
        "a < b \n",
        "[ True True] \n",
        "a <= b \n",
        "[ True True]\n",
        "```"
      ]
    },
    {
      "cell_type": "code",
      "execution_count": 55,
      "id": "7ba3c441",
      "metadata": {
        "id": "7ba3c441",
        "outputId": "ca701516-bd67-4186-ada4-554a4519eee1",
        "colab": {
          "base_uri": "https://localhost:8080/"
        }
      },
      "outputs": [
        {
          "output_type": "stream",
          "name": "stdout",
          "text": [
            "[False False]\n",
            "[False False]\n",
            "[ True  True]\n",
            "[ True  True]\n"
          ]
        }
      ],
      "source": [
        "a = np.array([1,2])\n",
        "b = np.array([3,4])\n",
        "print(a>b)\n",
        "print(a>=b)\n",
        "print(a<b)\n",
        "print(a<=b)"
      ]
    },
    {
      "cell_type": "markdown",
      "id": "e3a7ba7f",
      "metadata": {
        "id": "e3a7ba7f"
      },
      "source": [
        "#### 17. Quyidagi misol qanday natija beradi?\n",
        "\n",
        "```python\n",
        "np.array(0) / np.array(0)\n",
        "np.array(0) // np.array(0)\n",
        "np.array([np.nan]).astype(int).astype(float)\n",
        "```"
      ]
    },
    {
      "cell_type": "code",
      "execution_count": 56,
      "id": "b874734e",
      "metadata": {
        "id": "b874734e",
        "outputId": "54323c64-5a3f-4a32-bc65-863b46048dbc",
        "colab": {
          "base_uri": "https://localhost:8080/"
        }
      },
      "outputs": [
        {
          "output_type": "stream",
          "name": "stderr",
          "text": [
            "<ipython-input-56-cd809174da5d>:1: RuntimeWarning: invalid value encountered in true_divide\n",
            "  np.array(0) / np.array(0)\n",
            "<ipython-input-56-cd809174da5d>:2: RuntimeWarning: divide by zero encountered in floor_divide\n",
            "  np.array(0) // np.array(0)\n"
          ]
        },
        {
          "output_type": "execute_result",
          "data": {
            "text/plain": [
              "array([-9.22337204e+18])"
            ]
          },
          "metadata": {},
          "execution_count": 56
        }
      ],
      "source": [
        "np.array(0) / np.array(0)\n",
        "np.array(0) // np.array(0)\n",
        "np.array([np.nan]).astype(int).astype(float)"
      ]
    },
    {
      "cell_type": "markdown",
      "id": "6d17ab5d",
      "metadata": {
        "id": "6d17ab5d"
      },
      "source": [
        "#### 18. Ikkita massiv yarating va ular orasidagi umumiy qiymatlarni toping\n"
      ]
    },
    {
      "cell_type": "markdown",
      "source": [
        "`💡Ishora` np.intersect1d"
      ],
      "metadata": {
        "id": "4c4e2c5e"
      },
      "id": "4c4e2c5e"
    },
    {
      "cell_type": "code",
      "source": [
        "arr = np.arange(1,6,1)\n",
        "arr1 = np.arange(3,11,1)\n",
        "np.intersect1d(arr,arr1)"
      ],
      "metadata": {
        "id": "Dxz5P8WpMeAP",
        "outputId": "cc234ded-6dba-4e9b-b00a-e4ca0ff3aa1e",
        "colab": {
          "base_uri": "https://localhost:8080/"
        }
      },
      "id": "Dxz5P8WpMeAP",
      "execution_count": 61,
      "outputs": [
        {
          "output_type": "execute_result",
          "data": {
            "text/plain": [
              "array([3, 4, 5])"
            ]
          },
          "metadata": {},
          "execution_count": 61
        }
      ]
    },
    {
      "cell_type": "markdown",
      "id": "8837119b",
      "metadata": {
        "id": "8837119b"
      },
      "source": [
        "#### 19. Tasodifiy sonlardan iborat bo'lgan massiv yarating, so'ng ularni quyida berilgan 4 xil usul yordamida musbat sonlarning butun qismini ajratib oling."
      ]
    },
    {
      "cell_type": "markdown",
      "source": [
        "`💡Ishora` %, np.floor, astype, np.trunc"
      ],
      "metadata": {
        "id": "2b05c544"
      },
      "id": "2b05c544"
    },
    {
      "cell_type": "code",
      "source": [],
      "metadata": {
        "id": "jc6wN5WWMpS3"
      },
      "id": "jc6wN5WWMpS3",
      "execution_count": null,
      "outputs": []
    },
    {
      "cell_type": "markdown",
      "id": "ec788c9f",
      "metadata": {
        "id": "ec788c9f"
      },
      "source": [
        "#### 20. O'lchovlari 3x3 matritsa yarating, ularning qator qiymatlari 0 dan 2 gacha bo'lsin.\n",
        "\n"
      ]
    },
    {
      "cell_type": "markdown",
      "source": [
        "`💡Ishora` np.arange"
      ],
      "metadata": {
        "id": "c3980b2c"
      },
      "id": "c3980b2c"
    },
    {
      "cell_type": "code",
      "source": [],
      "metadata": {
        "id": "ycz3jw4bM0Xk"
      },
      "id": "ycz3jw4bM0Xk",
      "execution_count": null,
      "outputs": []
    },
    {
      "cell_type": "markdown",
      "id": "391791e0",
      "metadata": {
        "id": "391791e0"
      },
      "source": [
        "#### 21. O'chamlari 10 bo'lgan tasodifiy vektor yarating va uni o'sish tartibida chiqaruvchi dastur tuzing.\n",
        "\n"
      ]
    },
    {
      "cell_type": "markdown",
      "source": [
        "`💡Ishora` sort"
      ],
      "metadata": {
        "id": "ada71c06"
      },
      "id": "ada71c06"
    },
    {
      "cell_type": "code",
      "source": [],
      "metadata": {
        "id": "TPMqaavROM7g"
      },
      "id": "TPMqaavROM7g",
      "execution_count": null,
      "outputs": []
    },
    {
      "cell_type": "markdown",
      "id": "1e74d39e",
      "metadata": {
        "id": "1e74d39e"
      },
      "source": [
        "#### 22. A va B nomi bilan ikkita tasodifiy qiymatlardan iborat bo'lgan massiv yarating, so'ng ulardan qaysi biri katta yoki kichik ekanligini tekshiring."
      ]
    },
    {
      "cell_type": "markdown",
      "source": [
        "`💡Ishora` np.allclose, np.array_equal"
      ],
      "metadata": {
        "id": "eb0e066c"
      },
      "id": "eb0e066c"
    },
    {
      "cell_type": "code",
      "source": [],
      "metadata": {
        "id": "xHNWNZnwOT1r"
      },
      "id": "xHNWNZnwOT1r",
      "execution_count": null,
      "outputs": []
    },
    {
      "cell_type": "markdown",
      "id": "78250c14",
      "metadata": {
        "id": "78250c14"
      },
      "source": [
        "#### 23. O'lchamlari 6x3 va 3x4 matritsa tuzing va ularni o'zaro ko'paytiring. \n"
      ]
    },
    {
      "cell_type": "markdown",
      "source": [
        "`💡Ishora` np.dot or np.ones"
      ],
      "metadata": {
        "id": "2e482afe"
      },
      "id": "2e482afe"
    },
    {
      "cell_type": "code",
      "source": [],
      "metadata": {
        "id": "ZRlMgdT9POgS"
      },
      "id": "ZRlMgdT9POgS",
      "execution_count": null,
      "outputs": []
    },
    {
      "cell_type": "markdown",
      "id": "51898680",
      "metadata": {
        "id": "51898680"
      },
      "source": [
        "#### 24. Tasodifiy sonlardan iborat bo'lgan o'lchami 5 ga teng vektor yarating, so'ng uning eng katta qiymatini 0 ga o'zgartiring.\n"
      ]
    },
    {
      "cell_type": "markdown",
      "source": [
        "`💡Ishora` argmax"
      ],
      "metadata": {
        "id": "ee92ccaf"
      },
      "id": "ee92ccaf"
    },
    {
      "cell_type": "code",
      "source": [],
      "metadata": {
        "id": "v9DvyaTNPk_t"
      },
      "id": "v9DvyaTNPk_t",
      "execution_count": null,
      "outputs": []
    },
    {
      "cell_type": "markdown",
      "id": "89e78048",
      "metadata": {
        "id": "89e78048"
      },
      "source": [
        "#### 25. Quyidagi dastur qanday natija beradi?\n",
        "```python\n",
        "print(sum(range(5),-1))\n",
        "from numpy import *\n",
        "print(sum(range(5),-1))\n",
        "```"
      ]
    },
    {
      "cell_type": "code",
      "execution_count": null,
      "id": "8026c969",
      "metadata": {
        "id": "8026c969"
      },
      "outputs": [],
      "source": []
    },
    {
      "cell_type": "markdown",
      "id": "ebd10810",
      "metadata": {
        "id": "ebd10810"
      },
      "source": [
        "#### 26. NumPy kutubxonasi yordamida ikkita massivni solishtiruvchi dastur tuzing.\n",
        "```python\n",
        "Array a: [1 2]\n",
        "Array b: [4 5]\n",
        "a > b \n",
        "[False False]\n",
        "a >= b \n",
        "[False False] \n",
        "a < b \n",
        "[ True True] \n",
        "a <= b \n",
        "[ True True]\n",
        "```"
      ]
    },
    {
      "cell_type": "code",
      "execution_count": null,
      "id": "90fed5c6",
      "metadata": {
        "id": "90fed5c6"
      },
      "outputs": [],
      "source": []
    },
    {
      "cell_type": "markdown",
      "id": "f1ae2c2d",
      "metadata": {
        "id": "f1ae2c2d"
      },
      "source": [
        "#### 27. Ikkita umumiy qiymatlari mavjud bo'lgan massiv yarating, so'ng ulardagi umumiy qiymatlarni aniqlovchi dastur tuzing.\n"
      ]
    },
    {
      "cell_type": "markdown",
      "source": [
        "`💡Ishora` np.intersect1d"
      ],
      "metadata": {
        "id": "097482ad"
      },
      "id": "097482ad"
    },
    {
      "cell_type": "code",
      "source": [],
      "metadata": {
        "id": "M3QZ2rC3Roij"
      },
      "id": "M3QZ2rC3Roij",
      "execution_count": null,
      "outputs": []
    },
    {
      "cell_type": "markdown",
      "id": "129c342d",
      "metadata": {
        "id": "129c342d"
      },
      "source": [
        "#### 28. NumPy kutubxonasi yordamida kecha, bugun va ertangi kun sanalarini aniqlang.\n"
      ]
    },
    {
      "cell_type": "markdown",
      "source": [
        "`💡Ishora` np.datetime64, np.timedelta64"
      ],
      "metadata": {
        "id": "0fd2f947"
      },
      "id": "0fd2f947"
    },
    {
      "cell_type": "code",
      "source": [],
      "metadata": {
        "id": "dlljRGxkSitd"
      },
      "id": "dlljRGxkSitd",
      "execution_count": null,
      "outputs": []
    },
    {
      "cell_type": "markdown",
      "id": "42f8b2f9",
      "metadata": {
        "id": "42f8b2f9"
      },
      "source": [
        "#### 29. 2016 yil yanvar oyiga to'g'ri keladigan barcha sanalarni NumPy kutubxonasi yordamida aniqlang.\n"
      ]
    },
    {
      "cell_type": "markdown",
      "source": [
        "`💡Ishora` np.arange(dtype=datetime64['D'])"
      ],
      "metadata": {
        "id": "SU1BWcA8Sw2M"
      },
      "id": "SU1BWcA8Sw2M"
    },
    {
      "cell_type": "code",
      "execution_count": null,
      "id": "5ad086b0",
      "metadata": {
        "id": "5ad086b0"
      },
      "outputs": [],
      "source": []
    },
    {
      "cell_type": "markdown",
      "id": "486df8ea",
      "metadata": {
        "id": "486df8ea"
      },
      "source": [
        "#### 30. 4 xil usul yordamida musbat sonlarning tasodifiy massivining butun son qismini ajratib oling.\n"
      ]
    },
    {
      "cell_type": "markdown",
      "source": [
        "`💡Ishora` %, np.floor, astype, np.trunc`"
      ],
      "metadata": {
        "id": "h4QM3bp9TDhb"
      },
      "id": "h4QM3bp9TDhb"
    },
    {
      "cell_type": "code",
      "execution_count": null,
      "id": "2680c1ca",
      "metadata": {
        "id": "2680c1ca"
      },
      "outputs": [],
      "source": []
    },
    {
      "cell_type": "markdown",
      "id": "649e89f9",
      "metadata": {
        "id": "649e89f9"
      },
      "source": [
        "#### 31. Qator qiymatlari 0 dan 2 gacha bo'lgan 3x3 matritsa yarating.\n"
      ]
    },
    {
      "cell_type": "markdown",
      "source": [
        "`💡Ishora` np.arange"
      ],
      "metadata": {
        "id": "e832212f"
      },
      "id": "e832212f"
    },
    {
      "cell_type": "code",
      "source": [],
      "metadata": {
        "id": "YKNJEcLrTg3d"
      },
      "id": "YKNJEcLrTg3d",
      "execution_count": null,
      "outputs": []
    },
    {
      "cell_type": "markdown",
      "id": "2d07be1c",
      "metadata": {
        "id": "2d07be1c"
      },
      "source": [
        "#### 32. Tasodifiy qiymatlardan tashkil topgan 10 o'lchovli vektor yarating, so'ng uning qiymatlarini o'sish tartibida yozing.\n"
      ]
    },
    {
      "cell_type": "markdown",
      "source": [
        "`💡Ishora` sort"
      ],
      "metadata": {
        "id": "046a541a"
      },
      "id": "046a541a"
    },
    {
      "cell_type": "code",
      "source": [],
      "metadata": {
        "id": "zOPE5f20U95l"
      },
      "id": "zOPE5f20U95l",
      "execution_count": null,
      "outputs": []
    },
    {
      "cell_type": "markdown",
      "id": "6415f02e",
      "metadata": {
        "id": "6415f02e"
      },
      "source": [
        "#### 33. Ixtiyoriy kichik massivlar yarating, ular yeg'indisini np.sum funksiyasidanda tezroq hisoblovchi dastur tuzing.\n"
      ]
    },
    {
      "cell_type": "markdown",
      "source": [
        "`💡Ishora` np.add.reduce"
      ],
      "metadata": {
        "id": "129e785f"
      },
      "id": "129e785f"
    },
    {
      "cell_type": "code",
      "source": [],
      "metadata": {
        "id": "M0Xv2bB9VYQZ"
      },
      "id": "M0Xv2bB9VYQZ",
      "execution_count": null,
      "outputs": []
    },
    {
      "cell_type": "markdown",
      "id": "b7109c9f",
      "metadata": {
        "id": "b7109c9f"
      },
      "source": [
        "#### 34. Tasodifiy qiymatlardan tashkil topgan 5 o'lchovli vektor yarating, so'ng uning eng katta qiymatini 0 raqamiga almashtiring.\n"
      ]
    },
    {
      "cell_type": "markdown",
      "source": [
        "`💡Ishora` argmax"
      ],
      "metadata": {
        "id": "89b75e6d"
      },
      "id": "89b75e6d"
    },
    {
      "cell_type": "code",
      "source": [],
      "metadata": {
        "id": "rRz1oOQfXdg6"
      },
      "id": "rRz1oOQfXdg6",
      "execution_count": null,
      "outputs": []
    },
    {
      "cell_type": "markdown",
      "id": "58be9dd4",
      "metadata": {
        "id": "58be9dd4"
      },
      "source": [
        "#### 35. [1, 2, 3, 4, 5] vektor berilgan, har bir qiymat orasiga ketma-ket 3 ta nol raqamini yozuvchi dastur tuzing.\n"
      ]
    },
    {
      "cell_type": "markdown",
      "source": [
        "`💡Ishora` array[::4]"
      ],
      "metadata": {
        "id": "9cf9e134"
      },
      "id": "9cf9e134"
    },
    {
      "cell_type": "code",
      "source": [],
      "metadata": {
        "id": "04IuJ2jaZeYu"
      },
      "id": "04IuJ2jaZeYu",
      "execution_count": null,
      "outputs": []
    },
    {
      "cell_type": "markdown",
      "id": "781fa236",
      "metadata": {
        "id": "781fa236"
      },
      "source": [
        "#### 36. Quyidagi a massiv berilgan, a = [1,2,3,4,5,6,7,8,9,10,11,12,13,14] undan foydalangan holda siz quyidagi b massivni yarata olasizmi, b = [[1,2,3,4], [2,3,4,5], [3,4,5,6], ..., [11,12,13,14]]? \n"
      ]
    },
    {
      "cell_type": "markdown",
      "source": [
        "`💡Ishora` stride_tricks.as_strided"
      ],
      "metadata": {
        "id": "82e3d17e"
      },
      "id": "82e3d17e"
    },
    {
      "cell_type": "code",
      "source": [],
      "metadata": {
        "id": "S1H6ivCua3NZ"
      },
      "id": "S1H6ivCua3NZ",
      "execution_count": null,
      "outputs": []
    },
    {
      "cell_type": "markdown",
      "id": "7d8dc135",
      "metadata": {
        "id": "7d8dc135"
      },
      "source": [
        "#### 37. Ixtiyoriy sonlardan tashkil topgan massiv yarating, unga o'xshash qiymatlar kiriting. So'ng, o'xshash qiymatlarni topuvchi dastur tuzing.\n"
      ]
    },
    {
      "cell_type": "markdown",
      "source": [
        "`💡Ishora` np.bincount, argmax"
      ],
      "metadata": {
        "id": "81844e99"
      },
      "id": "81844e99"
    },
    {
      "cell_type": "code",
      "source": [],
      "metadata": {
        "id": "SiRaNwxjbaQN"
      },
      "id": "SiRaNwxjbaQN",
      "execution_count": null,
      "outputs": []
    },
    {
      "cell_type": "markdown",
      "source": [
        "#### BONUS!\n",
        "\n",
        "`💡O'zingiz javob berishni istagan savolni kiriting va unga javob bering!`"
      ],
      "metadata": {
        "id": "URzxwwODb0m_"
      },
      "id": "URzxwwODb0m_"
    },
    {
      "cell_type": "code",
      "source": [],
      "metadata": {
        "id": "9xpR0GVrbzuk"
      },
      "id": "9xpR0GVrbzuk",
      "execution_count": null,
      "outputs": []
    }
  ],
  "metadata": {
    "hide_input": false,
    "kernelspec": {
      "display_name": "Python 3",
      "language": "python",
      "name": "python3"
    },
    "language_info": {
      "codemirror_mode": {
        "name": "ipython",
        "version": 3
      },
      "file_extension": ".py",
      "mimetype": "text/x-python",
      "name": "python",
      "nbconvert_exporter": "python",
      "pygments_lexer": "ipython3",
      "version": "3.8.8"
    },
    "toc": {
      "base_numbering": 1,
      "nav_menu": {},
      "number_sections": true,
      "sideBar": true,
      "skip_h1_title": false,
      "title_cell": "Table of Contents",
      "title_sidebar": "Contents",
      "toc_cell": false,
      "toc_position": {},
      "toc_section_display": true,
      "toc_window_display": false
    },
    "varInspector": {
      "cols": {
        "lenName": 16,
        "lenType": 16,
        "lenVar": 40
      },
      "kernels_config": {
        "python": {
          "delete_cmd_postfix": "",
          "delete_cmd_prefix": "del ",
          "library": "var_list.py",
          "varRefreshCmd": "print(var_dic_list())"
        },
        "r": {
          "delete_cmd_postfix": ") ",
          "delete_cmd_prefix": "rm(",
          "library": "var_list.r",
          "varRefreshCmd": "cat(var_dic_list()) "
        }
      },
      "types_to_exclude": [
        "module",
        "function",
        "builtin_function_or_method",
        "instance",
        "_Feature"
      ],
      "window_display": false
    },
    "colab": {
      "provenance": [],
      "include_colab_link": true
    }
  },
  "nbformat": 4,
  "nbformat_minor": 5
}